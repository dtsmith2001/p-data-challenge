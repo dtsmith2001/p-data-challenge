{
 "cells": [
  {
   "cell_type": "code",
   "execution_count": 47,
   "metadata": {
    "collapsed": true
   },
   "outputs": [],
   "source": [
    "import os\n",
    "import os.path\n",
    "\n",
    "from urllib.parse import urlparse\n",
    "from urllib.parse import parse_qs\n",
    "from datetime import datetime\n",
    "\n",
    "%matplotlib inline\n",
    "from matplotlib import pyplot as plt\n",
    "plt.style.use('ggplot')\n",
    "import seaborn as sns\n",
    "\n",
    "from scipy.stats import linregress\n",
    "\n",
    "import boto3\n",
    "import numpy as np\n",
    "import pandas as pd"
   ]
  },
  {
   "cell_type": "markdown",
   "metadata": {},
   "source": [
    "# Data Challenge\n",
    "\n",
    "Files are stored in an S3 bucket. The purpose here is to fully analyze the data and make some predictions.\n",
    "\n",
    "This workbook was exported to a Python script and the resulting code was checked for PEP8 problems. Any problems were corrected.\n",
    "\n",
    "Any known or potential performance problems are flagged for further work.\n",
    "\n",
    "Some of the information here is based on posts from Stackoverflow. I haven't kept up with it, so I'll just indicate by flagging with **SO**.\n",
    "\n",
    "## Prepare an AWS Instance\n",
    "\n",
    "We're using a **tiny** instance here since the data and processing requirements are minimal.\n",
    "\n",
    "1. Install Anaconda for Python 3.6.\n",
    "2. Install the ```boto3``` and ```seaborn``` packages.\n",
    "3. Install and configure the AWS command-line tools.\n",
    "4. Use ```jupyter notebook --generate-config``` to generate a config file in ```~/.jupyter```. An example is enclosed in the GitHub repository.\n",
    "5. Run ```conda install -c conda-forge jupyter_contrib_nbextensions```.\n",
    "6. [Configure Jupyter](http://jupyter-notebook.readthedocs.io/en/stable/public_server.html) on the remote side to run without a browser and to require a password. Make sure you put the config file in the proper place.\n",
    "7. On the client side, run ```ssh -N -L 8888:localhost:8888 ubuntu@ec2-34-230-78-129.compute-1.amazonaws.com``` (the hostname may vary). This sets up the ssh tunnel and maps to port 8888 locally.\n",
    "8. ssh into the instance using ```ssh ubuntu@ec2-34-230-78-129.compute-1.amazonaws.com```.\n",
    "9. Start ```jupyter notebook```.\n",
    "\n",
    "Note: You can start the ```tmux``` terminal multiplexer in order to use notebooks when you are logged out.\n",
    "\n",
    "Note: This doesn't start X windows tunnelling, which is a separate configuration and is not presented here.\n",
    "\n",
    "## Get the Data from S3\n",
    "\n",
    "Instead of processing the data with the ```boto3.s3``` class, we chose to\n",
    "\n",
    "```bash\n",
    "aws s3 cp --recursive s3://my_bucket_name local_folder\n",
    "```\n",
    "\n",
    "This is not scalable, so we can use code such as\n",
    "\n",
    "```python\n",
    "s3 = boto3.resource('s3')\n",
    "bucket_name = \"postie-testing-assets\"\n",
    "test = s3.Bucket(bucket_name)\n",
    "s3.meta.client.head_bucket(Bucket=bucket_name)\n",
    "# {'ResponseMetadata': {'HTTPHeaders': {'content-type': 'application/xml',\n",
    "#  'date': 'Mon, 16 Oct 2017 18:06:53 GMT',\n",
    "#  'server': 'AmazonS3',\n",
    "#  'transfer-encoding': 'chunked',\n",
    "#  'x-amz-bucket-region': 'us-east-1',\n",
    "#  'x-amz-id-2': 'YhUEo61GDGSwz1qOpFGJl+C9Sxal34XKRYzOI0TF49PsSSGsbGg2Y6xwbf07z+KHIKusPIYkjxE=',\n",
    "#  'x-amz-request-id': 'DDD0C4B61BDF320E'},\n",
    "# 'HTTPStatusCode': 200,\n",
    "# 'HostId': 'YhUEo61GDGSwz1qOpFGJl+C9Sxal34XKRYzOI0TF49PsSSGsbGg2Y6xwbf07z+KHIKusPIYkjxE=',\n",
    "# 'RequestId': 'DDD0C4B61BDF320E',\n",
    "# 'RetryAttempts': 0}}\n",
    "for key in test.objects.all():\n",
    "    print(key.key)\n",
    "# 2017-07-01.csv\n",
    "# 2017-07-02.csv\n",
    "# 2017-07-03.csv\n",
    "```\n",
    "\n",
    "We did not bother to use ```boto3```.\n",
    "\n",
    "## Import and Process the Data\n",
    "\n",
    "The most difficult part was processing the url query string. We are using ```convert_list``` as a helper funtion during import. It allows us to parse the url query string out properly into a Pandas ```Series``` whose elements are dictionaries. We're rewriting the dictonyary before returning it to transform everything to ```int```. **Note that we are handling the ```error``` key in the url. There is only one of these, but it looks like a completed transaction. We don't know why it's there, so we will keep it until we learn more.**\n",
    "\n",
    "Also, once we have a ```pd.Series``` object, we can apply the ```Series``` constructor to map the key-value pairs from the parsed query string into a separate DataFrame. This frame has the same number of rows, and is in the same order, as the original data. So we can just use the ```join``` method to put together the two DataFrames.\n",
    "\n",
    "We then make a large DataFrame to keep all the data, and keep a list of DataFrame around for each file imported (just in case).\n",
    "\n",
    "## Data Issues\n",
    "\n",
    "1. Column names have spaces, so we need to remove them. A more sophisticated method would do this on import. However, processing the first row in this way may slow down the import process, particularly if the files are much larger. There are ways to read chunks via ```read_csv```, which can be used in a class to get the first line of the file, process it as a header, then continue reading the rest of the file in chunks. This is probably the best way to read many large files.\n",
    "2. Placeholder is blank (NaN) for two files. But is this needed?\n",
    "3. The file labeled \"2017-07-01\" has transactions for 7/1/2017 and 7/2/2017.\n",
    "4. The file labeled \"2017-07-02\" has transactions for 7/2/2017 and 7/3/2017.\n",
    "5. The file labeled \"2017-07-03\" has transactions only for 7/3/2017.\n",
    "6. There are two website id's, but one website id has two separate domain names: store.example.com, and www.example.com. This affects counts and also reporting if using the domain name. **Handling the domain names is very dependent on this dataset - no effort was made to write a more general solution**.\n",
    "7. Some of the checkout values are negative. Do the websites allow online returns? What does a negative checkout amount mean? We will assume that negative values are recorded with the wrong sign. So we take the absolute value of the ```checkout_amount```."
   ]
  },
  {
   "cell_type": "code",
   "execution_count": 2,
   "metadata": {
    "collapsed": true
   },
   "outputs": [],
   "source": [
    "def convert_list(query_string):\n",
    "    \"\"\"Parse the query string of the url into a dictionary.\n",
    "    \n",
    "    Handle special cases:\n",
    "    - There is a single query \"error=True\" which is rewritten to 1 if True, else 0.\n",
    "    - Parsing the query returns a dictionary of key-value pairs. The value is a list.\n",
    "      We must get the list value as an int.\n",
    "      \n",
    "    Note: This function may be a bottleneck when processing larger data files.\n",
    "    \"\"\"\n",
    "    def handle_error(z, col):\n",
    "        \"\"\"\n",
    "        Called in the dictionary comprehension below to handle the \"error\" key.\n",
    "        \"\"\"\n",
    "        if \"error\" in col:\n",
    "            return 1 if \"True\" in z else 0\n",
    "        return z\n",
    "    dd = parse_qs(query_string)\n",
    "    return {k: int(handle_error(dd[k][0], k)) for k in dd}"
   ]
  },
  {
   "cell_type": "markdown",
   "metadata": {},
   "source": [
    "## Explanation of Import Code\n",
    "\n",
    "- We are using ```dfr``` instead of ```fr```. The latter is the name of a function in ```R```.\n",
    "- We want to use the Pandas csv import and parse the timestamp into a ```Timestamp``` field.\n",
    "- The code assumes there are only csv files to process in the ```data``` directory. This can be fixed but it makes the code more complicated and will not be addressed here.\n",
    "- See above for a few issues discovered with the data.\n",
    "- We parse the url field to obtain the item counts purchased. This allows us to infer prices.\n",
    "- ```urlparse``` returns a structure. The first element is the hostname, and the fourth is the query string (if available). All our url strings have a query string, so we don't need any special processing here.\n",
    "- Apply the function ```convert_list``` to the query ```Series```. The result is a ```Series```. Why is this important?\n",
    "\n",
    "```python\n",
    "    qq = item_query.apply(lambda x: convert_list(x)).apply(pd.Series).fillna(value=0)\n",
    "```\n",
    "\n",
    "- We need to apply the ```Series``` constructor to each row of the results of ```convert_list```. The constructor parses the key-value pairs into columns and creates a DataFrame. We then fill the ```NaN``` values introduced. Since the resulting DataFrame has the same rows, in the same order, as the source frame (```ffr```, see below), we can just use the ```join``` method.\n",
    "- We keep a list DataFrames of the separate files."
   ]
  },
  {
   "cell_type": "code",
   "execution_count": 60,
   "metadata": {},
   "outputs": [
    {
     "name": "stdout",
     "output_type": "stream",
     "text": [
      "date 2017-07-02.csv has 183294.0 sales for rows 11573 and unique dates 2\n",
      "date 2017-07-01.csv has 241491.0 sales for rows 11634 and unique dates 2\n",
      "date 2017-07-03.csv has 164065.0 sales for rows 9981 and unique dates 1\n"
     ]
    },
    {
     "data": {
      "text/plain": [
       "(33188, 21)"
      ]
     },
     "execution_count": 60,
     "metadata": {},
     "output_type": "execute_result"
    }
   ],
   "source": [
    "dfr = pd.DataFrame()\n",
    "col_names = [\"timestamp\", \"website_id\", \"customer_id\", \"app_version\", \"placeholder\", \"checkout_amount\", \"url\"]\n",
    "data_report = []\n",
    "individual_days = []\n",
    "item_lists = []\n",
    "for fname in os.listdir(\"data\"):\n",
    "    ffr = pd.read_csv(os.path.join(\"data\", fname),\n",
    "                      header=0, names=col_names,\n",
    "                      infer_datetime_format=True, parse_dates=[0])\n",
    "    file_date = fname.split(\".\")[0]\n",
    "    ffr[\"file_date\"] = file_date\n",
    "    transaction_date = ffr.timestamp.apply(lambda x: x.strftime('%Y-%m-%d'))  # reformat transaction timestamp\n",
    "    ffr[\"transaction_date\"] = transaction_date\n",
    "    url_items = ffr.url.apply(lambda x: urlparse(x))\n",
    "    domain_name = url_items.apply(lambda x: x[1])\n",
    "    # handle store.example.com and www.example.com as the same website\n",
    "    ffr[\"domain_name\"] = domain_name.apply(lambda x: x if not \"example.com\" in x else \".\".join(x.split(\".\")[1:]))\n",
    "    item_query = url_items.apply(lambda x: x[4])\n",
    "    qq = item_query.apply(lambda x: convert_list(x)).apply(pd.Series).fillna(value=0)\n",
    "    item_lists += qq.columns.tolist()\n",
    "    final_fr = ffr.join(qq)\n",
    "    print(\"date {} has {} sales for rows {} and unique dates {}\".format(fname, ffr.checkout_amount.sum(),\n",
    "                                                                        ffr.shape[0],\n",
    "                                                                        transaction_date.unique().shape[0]))\n",
    "    data_report.append({\"file_date\": file_date, \"sales\": ffr.checkout_amount.sum(),\n",
    "                        \"n_placeholder_nan\": sum(ffr.placeholder.isnull()),\n",
    "                        \"n_rows\": ffr.shape[0],\n",
    "                        \"n_websites\": ffr.website_id.unique().shape[0],\n",
    "                        \"n_customers\": ffr.customer_id.unique().shape[0],\n",
    "                        \"n_app_versions\": ffr.app_version.unique().shape[0],\n",
    "                        \"n_dates\": transaction_date.unique().shape[0]})\n",
    "    dfr = dfr.append(final_fr)\n",
    "    individual_days.append(final_fr)\n",
    "### Note: This is an assumption\n",
    "dfr[\"checkout_amount\"] = dfr[\"checkout_amount\"].abs()\n",
    "dfr.reset_index(drop=True, inplace=True)\n",
    "item_lists = list(set([item for item in item_lists if not \"error\" in item]))\n",
    "dfr.shape"
   ]
  },
  {
   "cell_type": "markdown",
   "metadata": {},
   "source": [
    "Just to make sure there are no inconsistencies in the data, let's check the ```website_id``` against the domain name we've extracted."
   ]
  },
  {
   "cell_type": "code",
   "execution_count": 4,
   "metadata": {},
   "outputs": [
    {
     "data": {
      "text/html": [
       "<div>\n",
       "<style>\n",
       "    .dataframe thead tr:only-child th {\n",
       "        text-align: right;\n",
       "    }\n",
       "\n",
       "    .dataframe thead th {\n",
       "        text-align: left;\n",
       "    }\n",
       "\n",
       "    .dataframe tbody tr th {\n",
       "        vertical-align: top;\n",
       "    }\n",
       "</style>\n",
       "<table border=\"1\" class=\"dataframe\">\n",
       "  <thead>\n",
       "    <tr>\n",
       "      <th></th>\n",
       "      <th colspan=\"2\" halign=\"left\">amax</th>\n",
       "    </tr>\n",
       "    <tr>\n",
       "      <th>domain_name</th>\n",
       "      <th>example.com</th>\n",
       "      <th>xyz.com</th>\n",
       "    </tr>\n",
       "    <tr>\n",
       "      <th>transaction_date</th>\n",
       "      <th></th>\n",
       "      <th></th>\n",
       "    </tr>\n",
       "  </thead>\n",
       "  <tbody>\n",
       "    <tr>\n",
       "      <th>2017-07-01</th>\n",
       "      <td>123</td>\n",
       "      <td>124</td>\n",
       "    </tr>\n",
       "    <tr>\n",
       "      <th>2017-07-02</th>\n",
       "      <td>123</td>\n",
       "      <td>124</td>\n",
       "    </tr>\n",
       "    <tr>\n",
       "      <th>2017-07-03</th>\n",
       "      <td>123</td>\n",
       "      <td>124</td>\n",
       "    </tr>\n",
       "  </tbody>\n",
       "</table>\n",
       "</div>"
      ],
      "text/plain": [
       "                        amax        \n",
       "domain_name      example.com xyz.com\n",
       "transaction_date                    \n",
       "2017-07-01               123     124\n",
       "2017-07-02               123     124\n",
       "2017-07-03               123     124"
      ]
     },
     "execution_count": 4,
     "metadata": {},
     "output_type": "execute_result"
    }
   ],
   "source": [
    "pd.pivot_table(dfr, values=\"website_id\", index=\"transaction_date\", columns=\"domain_name\", aggfunc=[np.max])"
   ]
  },
  {
   "cell_type": "markdown",
   "metadata": {},
   "source": [
    "Finally, let's drop the ```error``` column. It affects a single row, and we don't have enough information to determine if this is a legitimate error or not."
   ]
  },
  {
   "cell_type": "code",
   "execution_count": 5,
   "metadata": {
    "collapsed": true
   },
   "outputs": [],
   "source": [
    "dfr.drop([\"error\"], axis=1, inplace=True)"
   ]
  },
  {
   "cell_type": "markdown",
   "metadata": {},
   "source": [
    "## Potential Performance Issues\n",
    "\n",
    "- Import code processing by file: handle url and domain name processing outside the loop.\n",
    "- Wrap import code into a function and read in the data using a list comprehension.\n",
    "- Keeping a list of DataFrames for each file imported is not necessary and should be eliminated in pipeline code.\n",
    "- Extract the individual item price by domain name upon import."
   ]
  },
  {
   "cell_type": "markdown",
   "metadata": {},
   "source": [
    "## Summaries of the Data\n",
    "\n",
    "First, let's check out the total sales per ```transaction_date```. This is the date from the ```timestamp``` field.  A separate field ```file_date``` will also be used to reveal problems with the data.\n",
    "\n",
    "Note: These pivot tables can obviously be reformatted but we will not bother here. That's something to do when presenting externally."
   ]
  },
  {
   "cell_type": "code",
   "execution_count": 6,
   "metadata": {},
   "outputs": [
    {
     "data": {
      "text/html": [
       "<div>\n",
       "<style>\n",
       "    .dataframe thead tr:only-child th {\n",
       "        text-align: right;\n",
       "    }\n",
       "\n",
       "    .dataframe thead th {\n",
       "        text-align: left;\n",
       "    }\n",
       "\n",
       "    .dataframe tbody tr th {\n",
       "        vertical-align: top;\n",
       "    }\n",
       "</style>\n",
       "<table border=\"1\" class=\"dataframe\">\n",
       "  <thead>\n",
       "    <tr>\n",
       "      <th></th>\n",
       "      <th colspan=\"3\" halign=\"left\">sum</th>\n",
       "    </tr>\n",
       "    <tr>\n",
       "      <th>domain_name</th>\n",
       "      <th>example.com</th>\n",
       "      <th>xyz.com</th>\n",
       "      <th>All</th>\n",
       "    </tr>\n",
       "    <tr>\n",
       "      <th>transaction_date</th>\n",
       "      <th></th>\n",
       "      <th></th>\n",
       "      <th></th>\n",
       "    </tr>\n",
       "  </thead>\n",
       "  <tbody>\n",
       "    <tr>\n",
       "      <th>2017-07-01</th>\n",
       "      <td>172874.0</td>\n",
       "      <td>50641.0</td>\n",
       "      <td>223515.0</td>\n",
       "    </tr>\n",
       "    <tr>\n",
       "      <th>2017-07-02</th>\n",
       "      <td>127786.0</td>\n",
       "      <td>55966.0</td>\n",
       "      <td>183752.0</td>\n",
       "    </tr>\n",
       "    <tr>\n",
       "      <th>2017-07-03</th>\n",
       "      <td>64743.0</td>\n",
       "      <td>117248.0</td>\n",
       "      <td>181991.0</td>\n",
       "    </tr>\n",
       "    <tr>\n",
       "      <th>All</th>\n",
       "      <td>365403.0</td>\n",
       "      <td>223855.0</td>\n",
       "      <td>589258.0</td>\n",
       "    </tr>\n",
       "  </tbody>\n",
       "</table>\n",
       "</div>"
      ],
      "text/plain": [
       "                         sum                    \n",
       "domain_name      example.com   xyz.com       All\n",
       "transaction_date                                \n",
       "2017-07-01          172874.0   50641.0  223515.0\n",
       "2017-07-02          127786.0   55966.0  183752.0\n",
       "2017-07-03           64743.0  117248.0  181991.0\n",
       "All                 365403.0  223855.0  589258.0"
      ]
     },
     "execution_count": 6,
     "metadata": {},
     "output_type": "execute_result"
    }
   ],
   "source": [
    "pd.pivot_table(dfr, values=\"checkout_amount\", index=\"transaction_date\", columns=\"domain_name\",\n",
    "               aggfunc=[np.sum], margins=True)"
   ]
  },
  {
   "cell_type": "markdown",
   "metadata": {},
   "source": [
    "Before we comment further, here are total sales per ```file_date```. This is the date we got from the file name, *assuming that each file contains a single day of data*."
   ]
  },
  {
   "cell_type": "code",
   "execution_count": 7,
   "metadata": {},
   "outputs": [
    {
     "data": {
      "text/html": [
       "<div>\n",
       "<style>\n",
       "    .dataframe thead tr:only-child th {\n",
       "        text-align: right;\n",
       "    }\n",
       "\n",
       "    .dataframe thead th {\n",
       "        text-align: left;\n",
       "    }\n",
       "\n",
       "    .dataframe tbody tr th {\n",
       "        vertical-align: top;\n",
       "    }\n",
       "</style>\n",
       "<table border=\"1\" class=\"dataframe\">\n",
       "  <thead>\n",
       "    <tr>\n",
       "      <th></th>\n",
       "      <th colspan=\"3\" halign=\"left\">sum</th>\n",
       "    </tr>\n",
       "    <tr>\n",
       "      <th>domain_name</th>\n",
       "      <th>example.com</th>\n",
       "      <th>xyz.com</th>\n",
       "      <th>All</th>\n",
       "    </tr>\n",
       "    <tr>\n",
       "      <th>file_date</th>\n",
       "      <th></th>\n",
       "      <th></th>\n",
       "      <th></th>\n",
       "    </tr>\n",
       "  </thead>\n",
       "  <tbody>\n",
       "    <tr>\n",
       "      <th>2017-07-01</th>\n",
       "      <td>182100.0</td>\n",
       "      <td>59391.0</td>\n",
       "      <td>241491.0</td>\n",
       "    </tr>\n",
       "    <tr>\n",
       "      <th>2017-07-02</th>\n",
       "      <td>127466.0</td>\n",
       "      <td>55828.0</td>\n",
       "      <td>183294.0</td>\n",
       "    </tr>\n",
       "    <tr>\n",
       "      <th>2017-07-03</th>\n",
       "      <td>55837.0</td>\n",
       "      <td>108636.0</td>\n",
       "      <td>164473.0</td>\n",
       "    </tr>\n",
       "    <tr>\n",
       "      <th>All</th>\n",
       "      <td>365403.0</td>\n",
       "      <td>223855.0</td>\n",
       "      <td>589258.0</td>\n",
       "    </tr>\n",
       "  </tbody>\n",
       "</table>\n",
       "</div>"
      ],
      "text/plain": [
       "                    sum                    \n",
       "domain_name example.com   xyz.com       All\n",
       "file_date                                  \n",
       "2017-07-01     182100.0   59391.0  241491.0\n",
       "2017-07-02     127466.0   55828.0  183294.0\n",
       "2017-07-03      55837.0  108636.0  164473.0\n",
       "All            365403.0  223855.0  589258.0"
      ]
     },
     "execution_count": 7,
     "metadata": {},
     "output_type": "execute_result"
    }
   ],
   "source": [
    "pd.pivot_table(dfr, values=\"checkout_amount\", index=\"file_date\", columns=\"domain_name\",\n",
    "               aggfunc=[np.sum], margins=True)"
   ]
  },
  {
   "cell_type": "markdown",
   "metadata": {},
   "source": [
    "So now we can see what's happening. Since the files do not separate dates properly, the average sales are off. We need to use the actual transaction date to calculate sales. Additionally, some of the checkout values are negative. This distorts the sales.\n",
    "\n",
    "The analyst's question is thus answered - there is a problem with just importing one file to calculate the average sales. Also, average sales, while meaningful, is not a good metric. It is sensitive to outliers, so a very large or small transaction has a large effect on the average. A better measure would be the median or quartiles. But let's look at a boxplot of the data first."
   ]
  },
  {
   "cell_type": "code",
   "execution_count": 8,
   "metadata": {},
   "outputs": [
    {
     "data": {
      "image/png": "[encoded data removed]",
      "text/plain": [
       "<matplotlib.figure.Figure at 0x7effc1d2db38>"
      ]
     },
     "metadata": {},
     "output_type": "display_data"
    }
   ],
   "source": [
    "sns.boxplot(x=\"transaction_date\", y=\"checkout_amount\", data=dfr);"
   ]
  },
  {
   "cell_type": "markdown",
   "metadata": {},
   "source": [
    "This is a [boxplot](http://seaborn.pydata.org/generated/seaborn.boxplot.html), which is a good way to display outliers, the median, quartiles, and range. We can see immediately that we have a problem with the wide range of checkout amounts. This is why the interquartile range is so compressed. There are two options.\n",
    "\n",
    "- The large values are not legitimate transactions. In this case, they are true outliers and should be ignored.\n",
    "- The large values are definitely legitimate transactions. This will complicate any predictive model.\n",
    "\n",
    "We need more information about sales. We need to know if the negative values are recorded wrong."
   ]
  },
  {
   "cell_type": "markdown",
   "metadata": {},
   "source": [
    "## Extracting Prices from the URL\n",
    "\n",
    "Let's now use the pricing information extracted from the url. We can query items in the DataFrame to find this information. At this point, we assume that prices are not changed on items during the day. This *seems* to be the case with this data, but we can't make that assumption about future data.\n",
    "\n",
    "Note: We are doing the item prices separately since the method used to produce the DataFrame above isn't adaptable. A different method of processing the data which avoids using the convienence of the ```pd.Series``` constructor can be used, at the expense of more difficult processing of the parsed url. Also, it's possible that an item only appears for a given domain name on a particular day, meaning we must process all the data first.\n",
    "\n",
    "First, to get the rows where only one item was purchased, we can use (**SO**)\n",
    "\n",
    "```python\n",
    "dfr[dfr[cols].astype(bool).sum(axis=1) == 1]\n",
    "```\n",
    "\n",
    "We then calculate the pricing and reformulate the data into a table we can view. This code is annoying to write, so it's preferable to redo the above loop to get the pricing. However, that may slow down processing."
   ]
  },
  {
   "cell_type": "code",
   "execution_count": 12,
   "metadata": {},
   "outputs": [
    {
     "data": {
      "text/html": [
       "<div>\n",
       "<style>\n",
       "    .dataframe thead tr:only-child th {\n",
       "        text-align: right;\n",
       "    }\n",
       "\n",
       "    .dataframe thead th {\n",
       "        text-align: left;\n",
       "    }\n",
       "\n",
       "    .dataframe tbody tr th {\n",
       "        vertical-align: top;\n",
       "    }\n",
       "</style>\n",
       "<table border=\"1\" class=\"dataframe\">\n",
       "  <thead>\n",
       "    <tr style=\"text-align: right;\">\n",
       "      <th></th>\n",
       "      <th>transaction_date</th>\n",
       "      <th>2017-07-01</th>\n",
       "      <th>2017-07-02</th>\n",
       "      <th>2017-07-03</th>\n",
       "    </tr>\n",
       "    <tr>\n",
       "      <th></th>\n",
       "      <th>domain_name</th>\n",
       "      <th></th>\n",
       "      <th></th>\n",
       "      <th></th>\n",
       "    </tr>\n",
       "  </thead>\n",
       "  <tbody>\n",
       "    <tr>\n",
       "      <th rowspan=\"2\" valign=\"top\">Bignay_price</th>\n",
       "      <th>example.com</th>\n",
       "      <td>6.0</td>\n",
       "      <td>6.0</td>\n",
       "      <td>6.0</td>\n",
       "    </tr>\n",
       "    <tr>\n",
       "      <th>xyz.com</th>\n",
       "      <td>6.0</td>\n",
       "      <td>6.0</td>\n",
       "      <td>6.0</td>\n",
       "    </tr>\n",
       "    <tr>\n",
       "      <th rowspan=\"2\" valign=\"top\">Black/White Pepper_price</th>\n",
       "      <th>example.com</th>\n",
       "      <td>5.0</td>\n",
       "      <td>5.0</td>\n",
       "      <td>5.0</td>\n",
       "    </tr>\n",
       "    <tr>\n",
       "      <th>xyz.com</th>\n",
       "      <td>5.0</td>\n",
       "      <td>5.0</td>\n",
       "      <td>5.0</td>\n",
       "    </tr>\n",
       "    <tr>\n",
       "      <th rowspan=\"2\" valign=\"top\">European Grape_price</th>\n",
       "      <th>example.com</th>\n",
       "      <td>5.0</td>\n",
       "      <td>5.0</td>\n",
       "      <td>5.0</td>\n",
       "    </tr>\n",
       "    <tr>\n",
       "      <th>xyz.com</th>\n",
       "      <td>5.0</td>\n",
       "      <td>5.0</td>\n",
       "      <td>5.0</td>\n",
       "    </tr>\n",
       "    <tr>\n",
       "      <th rowspan=\"2\" valign=\"top\">Hazelnut_price</th>\n",
       "      <th>example.com</th>\n",
       "      <td>4.0</td>\n",
       "      <td>4.0</td>\n",
       "      <td>4.0</td>\n",
       "    </tr>\n",
       "    <tr>\n",
       "      <th>xyz.com</th>\n",
       "      <td>4.0</td>\n",
       "      <td>4.0</td>\n",
       "      <td>4.0</td>\n",
       "    </tr>\n",
       "    <tr>\n",
       "      <th rowspan=\"2\" valign=\"top\">Mabolo_price</th>\n",
       "      <th>example.com</th>\n",
       "      <td>8.0</td>\n",
       "      <td>8.0</td>\n",
       "      <td>8.0</td>\n",
       "    </tr>\n",
       "    <tr>\n",
       "      <th>xyz.com</th>\n",
       "      <td>8.0</td>\n",
       "      <td>8.0</td>\n",
       "      <td>8.0</td>\n",
       "    </tr>\n",
       "    <tr>\n",
       "      <th rowspan=\"2\" valign=\"top\">Natal Orange_price</th>\n",
       "      <th>example.com</th>\n",
       "      <td>6.0</td>\n",
       "      <td>6.0</td>\n",
       "      <td>6.0</td>\n",
       "    </tr>\n",
       "    <tr>\n",
       "      <th>xyz.com</th>\n",
       "      <td>6.0</td>\n",
       "      <td>6.0</td>\n",
       "      <td>6.0</td>\n",
       "    </tr>\n",
       "    <tr>\n",
       "      <th rowspan=\"2\" valign=\"top\">Prairie Potato_price</th>\n",
       "      <th>example.com</th>\n",
       "      <td>3.0</td>\n",
       "      <td>3.0</td>\n",
       "      <td>3.0</td>\n",
       "    </tr>\n",
       "    <tr>\n",
       "      <th>xyz.com</th>\n",
       "      <td>3.0</td>\n",
       "      <td>3.0</td>\n",
       "      <td>3.0</td>\n",
       "    </tr>\n",
       "    <tr>\n",
       "      <th rowspan=\"2\" valign=\"top\">Round Kumquat_price</th>\n",
       "      <th>example.com</th>\n",
       "      <td>7.0</td>\n",
       "      <td>7.0</td>\n",
       "      <td>7.0</td>\n",
       "    </tr>\n",
       "    <tr>\n",
       "      <th>xyz.com</th>\n",
       "      <td>7.0</td>\n",
       "      <td>7.0</td>\n",
       "      <td>7.0</td>\n",
       "    </tr>\n",
       "    <tr>\n",
       "      <th rowspan=\"2\" valign=\"top\">Ume_price</th>\n",
       "      <th>example.com</th>\n",
       "      <td>6.0</td>\n",
       "      <td>6.0</td>\n",
       "      <td>6.0</td>\n",
       "    </tr>\n",
       "    <tr>\n",
       "      <th>xyz.com</th>\n",
       "      <td>6.0</td>\n",
       "      <td>6.0</td>\n",
       "      <td>6.0</td>\n",
       "    </tr>\n",
       "    <tr>\n",
       "      <th rowspan=\"2\" valign=\"top\">Ylang-ylang_price</th>\n",
       "      <th>example.com</th>\n",
       "      <td>5.0</td>\n",
       "      <td>5.0</td>\n",
       "      <td>5.0</td>\n",
       "    </tr>\n",
       "    <tr>\n",
       "      <th>xyz.com</th>\n",
       "      <td>5.0</td>\n",
       "      <td>5.0</td>\n",
       "      <td>5.0</td>\n",
       "    </tr>\n",
       "  </tbody>\n",
       "</table>\n",
       "</div>"
      ],
      "text/plain": [
       "transaction_date                      2017-07-01  2017-07-02  2017-07-03\n",
       "                         domain_name                                    \n",
       "Bignay_price             example.com         6.0         6.0         6.0\n",
       "                         xyz.com             6.0         6.0         6.0\n",
       "Black/White Pepper_price example.com         5.0         5.0         5.0\n",
       "                         xyz.com             5.0         5.0         5.0\n",
       "European Grape_price     example.com         5.0         5.0         5.0\n",
       "                         xyz.com             5.0         5.0         5.0\n",
       "Hazelnut_price           example.com         4.0         4.0         4.0\n",
       "                         xyz.com             4.0         4.0         4.0\n",
       "Mabolo_price             example.com         8.0         8.0         8.0\n",
       "                         xyz.com             8.0         8.0         8.0\n",
       "Natal Orange_price       example.com         6.0         6.0         6.0\n",
       "                         xyz.com             6.0         6.0         6.0\n",
       "Prairie Potato_price     example.com         3.0         3.0         3.0\n",
       "                         xyz.com             3.0         3.0         3.0\n",
       "Round Kumquat_price      example.com         7.0         7.0         7.0\n",
       "                         xyz.com             7.0         7.0         7.0\n",
       "Ume_price                example.com         6.0         6.0         6.0\n",
       "                         xyz.com             6.0         6.0         6.0\n",
       "Ylang-ylang_price        example.com         5.0         5.0         5.0\n",
       "                         xyz.com             5.0         5.0         5.0"
      ]
     },
     "execution_count": 12,
     "metadata": {},
     "output_type": "execute_result"
    }
   ],
   "source": [
    "cols = [item for item in item_lists if not \"error\" in item]\n",
    "pricing_temp = dfr[dfr[cols].astype(bool).sum(axis=1) == 1].copy()  # to avoid setting values on a view\n",
    "pricing_temp.drop_duplicates(subset=cols + [\"domain_name\", \"transaction_date\"], inplace=True)\n",
    "price_cols = []\n",
    "for col in cols:\n",
    "    price_cols.append(np.abs(pricing_temp[\"checkout_amount\"]/pricing_temp[col]))\n",
    "pricing = pd.concat(price_cols, axis=1)\n",
    "pricing.columns = cols\n",
    "price_cols = [col + \"_price\" for col in cols]\n",
    "px = pricing_temp.join(pricing, rsuffix=\"_price\")[price_cols + [\"transaction_date\", \"domain_name\"]]\n",
    "px = px.replace([np.inf, -np.inf], np.nan).fillna(value=0)\n",
    "pd.pivot_table(px, values=price_cols, index=\"transaction_date\", columns=\"domain_name\", aggfunc=np.max).transpose()"
   ]
  },
  {
   "cell_type": "markdown",
   "metadata": {},
   "source": [
    "Based on this table, it seems true that prices do not change from day to day, or during the day. **However, what if a price was changed during the day, and then changed back? Our analysis will not pick this up**."
   ]
  },
  {
   "cell_type": "markdown",
   "metadata": {},
   "source": [
    "## Notes for the Analyst\n",
    "\n",
    "- Make sure you understand what is in the files before you run an analysis.\n",
    "- Research with the customer the negative checkout amounts.\n",
    "- There is a single transaction with an error in the url query, but there is a seemingly valid item. Ask about this.\n",
    "- What does placeholder mean? Why is it blank in two files?\n",
    "- One of the websites has checkouts from two different subdomains. Make sure you understand this. Is one set of checkout amounts mobile versus desktop?\n",
    "- The code I have produced is inefficient in many aspects. If you can modify the code to make it more efficient, do so. Otherwise, get back to me.\n",
    "- Note that I can confirm your sales figure on the 3rd if I don't take the absolute value. The above analysis is **with** the absolute value of the checkout amount.\n",
    "- Are the checkout amounts consistent with the prices we calculated? Check this.\n",
    "- Check the data issues above to find anything I missed."
   ]
  },
  {
   "cell_type": "markdown",
   "metadata": {},
   "source": [
    "## Analysis of Purchases\n",
    "\n",
    "This is not hard, but the format of the results is a bit difficult to see. Let's reduce our dataset down a bit to examine counts of purchases."
   ]
  },
  {
   "cell_type": "code",
   "execution_count": 63,
   "metadata": {},
   "outputs": [],
   "source": [
    "frame = dfr[item_lists + [\"transaction_date\", \"domain_name\", \"checkout_amount\"]]\n",
    "gr = frame.groupby([\"transaction_date\", \"domain_name\"])"
   ]
  },
  {
   "cell_type": "markdown",
   "metadata": {},
   "source": [
    "Now we can look at the top five purchases for each column."
   ]
  },
  {
   "cell_type": "code",
   "execution_count": 64,
   "metadata": {},
   "outputs": [
    {
     "data": {
      "text/html": [
       "<div>\n",
       "<style>\n",
       "    .dataframe thead tr:only-child th {\n",
       "        text-align: right;\n",
       "    }\n",
       "\n",
       "    .dataframe thead th {\n",
       "        text-align: left;\n",
       "    }\n",
       "\n",
       "    .dataframe tbody tr th {\n",
       "        vertical-align: top;\n",
       "    }\n",
       "</style>\n",
       "<table border=\"1\" class=\"dataframe\">\n",
       "  <thead>\n",
       "    <tr style=\"text-align: right;\">\n",
       "      <th></th>\n",
       "      <th>Black/White Pepper</th>\n",
       "      <th>Prairie Potato</th>\n",
       "      <th>Bignay</th>\n",
       "      <th>European Grape</th>\n",
       "      <th>Natal Orange</th>\n",
       "      <th>Hazelnut</th>\n",
       "      <th>Ylang-ylang</th>\n",
       "      <th>Ume</th>\n",
       "      <th>Round Kumquat</th>\n",
       "      <th>Mabolo</th>\n",
       "      <th>transaction_date</th>\n",
       "      <th>domain_name</th>\n",
       "      <th>checkout_amount</th>\n",
       "    </tr>\n",
       "  </thead>\n",
       "  <tbody>\n",
       "    <tr>\n",
       "      <th>15209</th>\n",
       "      <td>1049.0</td>\n",
       "      <td>983.0</td>\n",
       "      <td>999.0</td>\n",
       "      <td>1011.0</td>\n",
       "      <td>965.0</td>\n",
       "      <td>1015.0</td>\n",
       "      <td>958.0</td>\n",
       "      <td>998.0</td>\n",
       "      <td>963.0</td>\n",
       "      <td>1059.0</td>\n",
       "      <td>2017-07-01</td>\n",
       "      <td>example.com</td>\n",
       "      <td>55084.0</td>\n",
       "    </tr>\n",
       "    <tr>\n",
       "      <th>14280</th>\n",
       "      <td>1005.0</td>\n",
       "      <td>1013.0</td>\n",
       "      <td>990.0</td>\n",
       "      <td>976.0</td>\n",
       "      <td>999.0</td>\n",
       "      <td>995.0</td>\n",
       "      <td>1010.0</td>\n",
       "      <td>981.0</td>\n",
       "      <td>1011.0</td>\n",
       "      <td>1020.0</td>\n",
       "      <td>2017-07-01</td>\n",
       "      <td>example.com</td>\n",
       "      <td>55031.0</td>\n",
       "    </tr>\n",
       "    <tr>\n",
       "      <th>19493</th>\n",
       "      <td>170.0</td>\n",
       "      <td>143.0</td>\n",
       "      <td>163.0</td>\n",
       "      <td>160.0</td>\n",
       "      <td>166.0</td>\n",
       "      <td>159.0</td>\n",
       "      <td>111.0</td>\n",
       "      <td>151.0</td>\n",
       "      <td>147.0</td>\n",
       "      <td>130.0</td>\n",
       "      <td>2017-07-01</td>\n",
       "      <td>example.com</td>\n",
       "      <td>8219.0</td>\n",
       "    </tr>\n",
       "    <tr>\n",
       "      <th>15066</th>\n",
       "      <td>140.0</td>\n",
       "      <td>142.0</td>\n",
       "      <td>140.0</td>\n",
       "      <td>138.0</td>\n",
       "      <td>155.0</td>\n",
       "      <td>174.0</td>\n",
       "      <td>150.0</td>\n",
       "      <td>180.0</td>\n",
       "      <td>135.0</td>\n",
       "      <td>146.0</td>\n",
       "      <td>2017-07-01</td>\n",
       "      <td>example.com</td>\n",
       "      <td>8225.0</td>\n",
       "    </tr>\n",
       "    <tr>\n",
       "      <th>17421</th>\n",
       "      <td>14.0</td>\n",
       "      <td>7.0</td>\n",
       "      <td>16.0</td>\n",
       "      <td>7.0</td>\n",
       "      <td>7.0</td>\n",
       "      <td>11.0</td>\n",
       "      <td>9.0</td>\n",
       "      <td>15.0</td>\n",
       "      <td>8.0</td>\n",
       "      <td>6.0</td>\n",
       "      <td>2017-07-01</td>\n",
       "      <td>example.com</td>\n",
       "      <td>547.0</td>\n",
       "    </tr>\n",
       "  </tbody>\n",
       "</table>\n",
       "</div>"
      ],
      "text/plain": [
       "       Black/White Pepper  Prairie Potato  Bignay  European Grape  \\\n",
       "15209              1049.0           983.0   999.0          1011.0   \n",
       "14280              1005.0          1013.0   990.0           976.0   \n",
       "19493               170.0           143.0   163.0           160.0   \n",
       "15066               140.0           142.0   140.0           138.0   \n",
       "17421                14.0             7.0    16.0             7.0   \n",
       "\n",
       "       Natal Orange  Hazelnut  Ylang-ylang    Ume  Round Kumquat  Mabolo  \\\n",
       "15209         965.0    1015.0        958.0  998.0          963.0  1059.0   \n",
       "14280         999.0     995.0       1010.0  981.0         1011.0  1020.0   \n",
       "19493         166.0     159.0        111.0  151.0          147.0   130.0   \n",
       "15066         155.0     174.0        150.0  180.0          135.0   146.0   \n",
       "17421           7.0      11.0          9.0   15.0            8.0     6.0   \n",
       "\n",
       "      transaction_date  domain_name  checkout_amount  \n",
       "15209       2017-07-01  example.com          55084.0  \n",
       "14280       2017-07-01  example.com          55031.0  \n",
       "19493       2017-07-01  example.com           8219.0  \n",
       "15066       2017-07-01  example.com           8225.0  \n",
       "17421       2017-07-01  example.com            547.0  "
      ]
     },
     "execution_count": 64,
     "metadata": {},
     "output_type": "execute_result"
    }
   ],
   "source": [
    "gb_frames = []\n",
    "for _, group in gr:\n",
    "    gb_frames.append(group.nlargest(5, \"Bignay\"))\n",
    "gb_frames[0]"
   ]
  },
  {
   "cell_type": "markdown",
   "metadata": {},
   "source": [
    "## Sales Prediction\n",
    "\n",
    "Let's take a look at the daily sales again."
   ]
  },
  {
   "cell_type": "code",
   "execution_count": 43,
   "metadata": {},
   "outputs": [
    {
     "data": {
      "text/html": [
       "<div>\n",
       "<style>\n",
       "    .dataframe thead tr:only-child th {\n",
       "        text-align: right;\n",
       "    }\n",
       "\n",
       "    .dataframe thead th {\n",
       "        text-align: left;\n",
       "    }\n",
       "\n",
       "    .dataframe tbody tr th {\n",
       "        vertical-align: top;\n",
       "    }\n",
       "</style>\n",
       "<table border=\"1\" class=\"dataframe\">\n",
       "  <thead>\n",
       "    <tr style=\"text-align: right;\">\n",
       "      <th></th>\n",
       "      <th>example.com</th>\n",
       "      <th>xyz.com</th>\n",
       "    </tr>\n",
       "    <tr>\n",
       "      <th>transaction_date</th>\n",
       "      <th></th>\n",
       "      <th></th>\n",
       "    </tr>\n",
       "  </thead>\n",
       "  <tbody>\n",
       "    <tr>\n",
       "      <th>2017-07-01</th>\n",
       "      <td>172874.0</td>\n",
       "      <td>50641.0</td>\n",
       "    </tr>\n",
       "    <tr>\n",
       "      <th>2017-07-02</th>\n",
       "      <td>127786.0</td>\n",
       "      <td>55966.0</td>\n",
       "    </tr>\n",
       "    <tr>\n",
       "      <th>2017-07-03</th>\n",
       "      <td>64743.0</td>\n",
       "      <td>117248.0</td>\n",
       "    </tr>\n",
       "  </tbody>\n",
       "</table>\n",
       "</div>"
      ],
      "text/plain": [
       "                  example.com   xyz.com\n",
       "transaction_date                       \n",
       "2017-07-01           172874.0   50641.0\n",
       "2017-07-02           127786.0   55966.0\n",
       "2017-07-03            64743.0  117248.0"
      ]
     },
     "execution_count": 43,
     "metadata": {},
     "output_type": "execute_result"
    }
   ],
   "source": [
    "pt = pd.pivot_table(dfr, values=\"checkout_amount\", index=\"transaction_date\", columns=\"domain_name\",\n",
    "                    aggfunc=[np.sum], margins=False)\n",
    "pt.columns = [\"example.com\", \"xyz.com\"]  # get rid of multiindex\n",
    "pt"
   ]
  },
  {
   "cell_type": "markdown",
   "metadata": {},
   "source": [
    "Here are a few modeling considerations.\n",
    "\n",
    "- We only have three days to work with. That's not enough.\n",
    "- There are questions to clear up about the data.\n",
    "- How does the app version and placeholder affect the data?\n",
    "\n",
    "However, we can make some predictions at this point. First, we can make the following prediction by averaging."
   ]
  },
  {
   "cell_type": "code",
   "execution_count": 33,
   "metadata": {},
   "outputs": [
    {
     "name": "stdout",
     "output_type": "stream",
     "text": [
      "Tomorrow's (7/14/2017) sales for example.com is 121801.0\n",
      "Tomorrow's (7/14/2017) sales for xyz.com is 74618.33333333333\n"
     ]
    }
   ],
   "source": [
    "for col in pt.columns.tolist():\n",
    "    print(\"Tomorrow's (7/14/2017) sales for {} is {}\".format(col, pt[col].mean()))"
   ]
  },
  {
   "cell_type": "markdown",
   "metadata": {
    "collapsed": true
   },
   "source": [
    "We can also draw a regression plot and make predictions using the regression line.\n",
    "\n",
    "First, there are a few details with the index. Placing the labels is also annoying. The alternatives are to use the Pandas plotting capabilities. In fact, there is no really good solution to plotting a time series and associated regression line without creating the regression line values in the DataFrame. This latter idea is what I usually do, however, the below charts were produced in a different way.\n",
    "\n",
    "Note that both show a clear linear trend. However, there are problems - we just don't have enough data. ```regplot``` is a good tool for linear regression plots, but it does have its deficiencies, such as not providing the slope and intercept of the regression line. Additionally, the error region is not meaningful with this small amount of data."
   ]
  },
  {
   "cell_type": "code",
   "execution_count": 50,
   "metadata": {},
   "outputs": [
    {
     "data": {
      "image/png": "[encoded data removed]",
      "text/plain": [
       "<matplotlib.figure.Figure at 0x7effc37afda0>"
      ]
     },
     "metadata": {},
     "output_type": "display_data"
    }
   ],
   "source": [
    "pt = pd.pivot_table(dfr, values=\"checkout_amount\", index=\"transaction_date\", columns=\"domain_name\",\n",
    "                    aggfunc=[np.sum], margins=False)\n",
    "pt.columns = [\"example.com\", \"xyz.com\"]\n",
    "pt.index = pd.DatetimeIndex(pt.index)\n",
    "idx = pd.date_range(pt.index.min(), pt.index.max())\n",
    "pt = pt.reindex(index=idx)\n",
    "pt.insert(pt.shape[1],\n",
    "          'row_count',\n",
    "          pt.index.value_counts().sort_index().cumsum())\n",
    "ax = sns.regplot(data=pt, x=\"row_count\", y=\"example.com\")\n",
    "labels = ['' for item in ax.get_xticklabels()]\n",
    "labels[1] = pt.index[0].date()\n",
    "labels[5] = pt.index[1].date()\n",
    "labels[9] = pt.index[2].date()\n",
    "ax.set_xticklabels(labels)\n",
    "plt.xticks(rotation=40)\n",
    "plt.xlabel(\"Transaction Date\")\n",
    "plt.show()"
   ]
  },
  {
   "cell_type": "markdown",
   "metadata": {},
   "source": [
    "And the sales prediction is"
   ]
  },
  {
   "cell_type": "code",
   "execution_count": 51,
   "metadata": {},
   "outputs": [
    {
     "name": "stdout",
     "output_type": "stream",
     "text": [
      "Predicted sales for example.com on 7/4/2014 is 13670.000000000116\n"
     ]
    }
   ],
   "source": [
    "slope, intercept, r_value, p_value, std_err = linregress(x=ax.get_lines()[0].get_xdata(),y=ax.get_lines()[0].get_ydata())\n",
    "print(\"Predicted sales for example.com on 7/4/2014 is {}\".format(intercept + slope * 4))"
   ]
  },
  {
   "cell_type": "code",
   "execution_count": 52,
   "metadata": {},
   "outputs": [
    {
     "data": {
      "image/png": "[encoded data removed]",
      "text/plain": [
       "<matplotlib.figure.Figure at 0x7effc3811240>"
      ]
     },
     "metadata": {},
     "output_type": "display_data"
    }
   ],
   "source": [
    "pt = pd.pivot_table(dfr, values=\"checkout_amount\", index=\"transaction_date\", columns=\"domain_name\",\n",
    "                    aggfunc=[np.sum], margins=False)\n",
    "pt.columns = [\"example.com\", \"xyz.com\"]\n",
    "pt.index = pd.DatetimeIndex(pt.index)\n",
    "idx = pd.date_range(pt.index.min(), pt.index.max())\n",
    "pt = pt.reindex(index=idx)\n",
    "pt.insert(pt.shape[1],\n",
    "          'row_count',\n",
    "          pt.index.value_counts().sort_index().cumsum())\n",
    "ax = sns.regplot(data=pt, x=\"row_count\", y=\"xyz.com\")\n",
    "labels = ['' for item in ax.get_xticklabels()]\n",
    "labels[1] = pt.index[0].date()\n",
    "labels[5] = pt.index[1].date()\n",
    "labels[9] = pt.index[2].date()\n",
    "ax.set_xticklabels(labels)\n",
    "plt.xticks(rotation=40)\n",
    "plt.xlabel(\"Transaction Date\")\n",
    "plt.show()"
   ]
  },
  {
   "cell_type": "markdown",
   "metadata": {},
   "source": [
    "Again, the sales prediction is"
   ]
  },
  {
   "cell_type": "code",
   "execution_count": 53,
   "metadata": {},
   "outputs": [
    {
     "name": "stdout",
     "output_type": "stream",
     "text": [
      "Predicted sales for xyz.com on 7/4/2014 is 141225.33333333343\n"
     ]
    }
   ],
   "source": [
    "slope, intercept, r_value, p_value, std_err = linregress(x=ax.get_lines()[0].get_xdata(),y=ax.get_lines()[0].get_ydata())\n",
    "print(\"Predicted sales for xyz.com on 7/4/2014 is {}\".format(intercept + slope * 4))"
   ]
  },
  {
   "cell_type": "code",
   "execution_count": null,
   "metadata": {
    "collapsed": true
   },
   "outputs": [],
   "source": []
  }
 ],
 "metadata": {
  "kernelspec": {
   "display_name": "Python 3",
   "language": "python",
   "name": "python3"
  },
  "language_info": {
   "codemirror_mode": {
    "name": "ipython",
    "version": 3
   },
   "file_extension": ".py",
   "mimetype": "text/x-python",
   "name": "python",
   "nbconvert_exporter": "python",
   "pygments_lexer": "ipython3",
   "version": "3.6.2"
  }
 },
 "nbformat": 4,
 "nbformat_minor": 2
}
