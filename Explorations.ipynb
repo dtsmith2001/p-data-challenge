{
 "cells": [
  {
   "cell_type": "code",
   "execution_count": 9,
   "metadata": {
    "collapsed": true
   },
   "outputs": [],
   "source": [
    "import os\n",
    "import os.path\n",
    "\n",
    "import numpy as np\n",
    "import pandas as pd"
   ]
  },
  {
   "cell_type": "code",
   "execution_count": 2,
   "metadata": {
    "collapsed": true
   },
   "outputs": [],
   "source": [
    "s3 = boto3.resource('s3')\n",
    "bucket_name = \"postie-testing-assets\""
   ]
  },
  {
   "cell_type": "code",
   "execution_count": 3,
   "metadata": {
    "collapsed": true
   },
   "outputs": [],
   "source": [
    "test = s3.Bucket(bucket_name)"
   ]
  },
  {
   "cell_type": "code",
   "execution_count": 4,
   "metadata": {},
   "outputs": [
    {
     "data": {
      "text/plain": [
       "{'ResponseMetadata': {'HTTPHeaders': {'content-type': 'application/xml',\n",
       "   'date': 'Mon, 16 Oct 2017 18:06:53 GMT',\n",
       "   'server': 'AmazonS3',\n",
       "   'transfer-encoding': 'chunked',\n",
       "   'x-amz-bucket-region': 'us-east-1',\n",
       "   'x-amz-id-2': 'YhUEo61GDGSwz1qOpFGJl+C9Sxal34XKRYzOI0TF49PsSSGsbGg2Y6xwbf07z+KHIKusPIYkjxE=',\n",
       "   'x-amz-request-id': 'DDD0C4B61BDF320E'},\n",
       "  'HTTPStatusCode': 200,\n",
       "  'HostId': 'YhUEo61GDGSwz1qOpFGJl+C9Sxal34XKRYzOI0TF49PsSSGsbGg2Y6xwbf07z+KHIKusPIYkjxE=',\n",
       "  'RequestId': 'DDD0C4B61BDF320E',\n",
       "  'RetryAttempts': 0}}"
      ]
     },
     "execution_count": 4,
     "metadata": {},
     "output_type": "execute_result"
    }
   ],
   "source": [
    "s3.meta.client.head_bucket(Bucket=bucket_name)"
   ]
  },
  {
   "cell_type": "code",
   "execution_count": 5,
   "metadata": {},
   "outputs": [
    {
     "name": "stdout",
     "output_type": "stream",
     "text": [
      "2017-07-01.csv\n",
      "2017-07-02.csv\n",
      "2017-07-03.csv\n"
     ]
    }
   ],
   "source": [
    "for key in test.objects.all():\n",
    "    "
   ]
  },
  {
   "cell_type": "code",
   "execution_count": 8,
   "metadata": {},
   "outputs": [
    {
     "ename": "AttributeError",
     "evalue": "'s3.ServiceResource' object has no attribute 'list_objects'",
     "output_type": "error",
     "traceback": [
      "\u001b[0;31m---------------------------------------------------------------------------\u001b[0m",
      "\u001b[0;31mAttributeError\u001b[0m                            Traceback (most recent call last)",
      "\u001b[0;32m<ipython-input-8-2e627f9a3e34>\u001b[0m in \u001b[0;36m<module>\u001b[0;34m()\u001b[0m\n\u001b[0;32m----> 1\u001b[0;31m \u001b[0mkeys\u001b[0m \u001b[0;34m=\u001b[0m \u001b[0ms3\u001b[0m\u001b[0;34m.\u001b[0m\u001b[0mlist_objects\u001b[0m\u001b[0;34m(\u001b[0m\u001b[0mBucket\u001b[0m\u001b[0;34m=\u001b[0m\u001b[0mbucket_name\u001b[0m\u001b[0;34m)\u001b[0m\u001b[0;34m[\u001b[0m\u001b[0;34m'Contents'\u001b[0m\u001b[0;34m]\u001b[0m\u001b[0;34m\u001b[0m\u001b[0m\n\u001b[0m\u001b[1;32m      2\u001b[0m \u001b[0;32mfor\u001b[0m \u001b[0mkey\u001b[0m \u001b[0;32min\u001b[0m \u001b[0mkeys\u001b[0m\u001b[0;34m:\u001b[0m\u001b[0;34m\u001b[0m\u001b[0m\n\u001b[1;32m      3\u001b[0m     \u001b[0ms3\u001b[0m\u001b[0;34m.\u001b[0m\u001b[0mdownload_file\u001b[0m\u001b[0;34m(\u001b[0m\u001b[0mbucket_name\u001b[0m\u001b[0;34m,\u001b[0m \u001b[0mkey\u001b[0m\u001b[0;34m[\u001b[0m\u001b[0;34m'Key'\u001b[0m\u001b[0;34m]\u001b[0m\u001b[0;34m,\u001b[0m \u001b[0mkey\u001b[0m\u001b[0;34m[\u001b[0m\u001b[0;34m'Key'\u001b[0m\u001b[0;34m]\u001b[0m\u001b[0;34m)\u001b[0m\u001b[0;34m\u001b[0m\u001b[0m\n",
      "\u001b[0;31mAttributeError\u001b[0m: 's3.ServiceResource' object has no attribute 'list_objects'"
     ]
    }
   ],
   "source": [
    "keys = s3.list_objects(Bucket=bucket_name)['Contents']\n",
    "for key in keys:\n",
    "    s3.download_file(bucket_name, key['Key'], key['Key'])"
   ]
  },
  {
   "cell_type": "markdown",
   "metadata": {},
   "source": [
    "## Download the data using\n",
    "\n",
    "```aws s3 cp --recursive s3://my_bucket_name local_folder```\n",
    "\n",
    "## Data Issues\n",
    "\n",
    "1. Column names have spaces, so we need to modify them.\n",
    "2. Placeholder is blank (NaN) for two files. But is this needed?\n",
    "\n",
    "## Observations\n",
    "\n",
    "1. Analyst is correct - July 3rd has sales of $164,065. There are fewer sales on the 3rd than the other two days."
   ]
  },
  {
   "cell_type": "code",
   "execution_count": 40,
   "metadata": {},
   "outputs": [
    {
     "name": "stdout",
     "output_type": "stream",
     "text": [
      "date 2017-07-02.csv has 183294.0 sales for rows 11573\n",
      "date 2017-07-01.csv has 241491.0 sales for rows 11634\n",
      "date 2017-07-03.csv has 164065.0 sales for rows 9981\n"
     ]
    }
   ],
   "source": [
    "fr = pd.DataFrame()\n",
    "col_names = ['timestamp', 'website_id', 'customer_id', 'app_version',\n",
    "       'placeholder', 'checkout_amount', 'url']\n",
    "data_report = []\n",
    "for fname in os.listdir(\"data\"):\n",
    "    ffr = pd.read_csv(os.path.join(\"data\", fname),\n",
    "                      header=0, names=col_names,\n",
    "                      infer_datetime_format=True, parse_dates=[0])\n",
    "    print(\"date {} has {} sales for rows {}\".format(fname, ffr.checkout_amount.sum(), ffr.shape[0]))\n",
    "    data_report.append({\"date\": fname.split(\".\"), \"sales\": ffr.checkout_amount.sum(),\n",
    "                        \"placeholder_nan\": sum(ffr.placeholder.isnull()),\n",
    "                        \"n_rows\": ffr.shape[0],\n",
    "                        \"n_websites\": ffr.website_id.unique().shape[0]})\n",
    "    fr = fr.append(ffr)"
   ]
  },
  {
   "cell_type": "code",
   "execution_count": 41,
   "metadata": {},
   "outputs": [
    {
     "data": {
      "text/plain": [
       "[{'date': ['2017-07-02', 'csv'],\n",
       "  'n_rows': 11573,\n",
       "  'n_websites': 2,\n",
       "  'placeholder_nan': 11573,\n",
       "  'sales': 183294.0},\n",
       " {'date': ['2017-07-01', 'csv'],\n",
       "  'n_rows': 11634,\n",
       "  'n_websites': 2,\n",
       "  'placeholder_nan': 11634,\n",
       "  'sales': 241491.0},\n",
       " {'date': ['2017-07-03', 'csv'],\n",
       "  'n_rows': 9981,\n",
       "  'n_websites': 2,\n",
       "  'placeholder_nan': 1792,\n",
       "  'sales': 164065.0}]"
      ]
     },
     "execution_count": 41,
     "metadata": {},
     "output_type": "execute_result"
    }
   ],
   "source": [
    "data_report"
   ]
  },
  {
   "cell_type": "code",
   "execution_count": 30,
   "metadata": {},
   "outputs": [
    {
     "name": "stdout",
     "output_type": "stream",
     "text": [
      "<class 'pandas.core.frame.DataFrame'>\n",
      "Int64Index: 33188 entries, 0 to 9980\n",
      "Data columns (total 7 columns):\n",
      "timestamp          33188 non-null datetime64[ns]\n",
      "website_id         33188 non-null int64\n",
      "customer_id        33188 non-null int64\n",
      "app_version        33188 non-null float64\n",
      "placeholder        8189 non-null object\n",
      "checkout_amount    33188 non-null float64\n",
      "url                33188 non-null object\n",
      "dtypes: datetime64[ns](1), float64(2), int64(2), object(2)\n",
      "memory usage: 2.0+ MB\n"
     ]
    }
   ],
   "source": [
    "fr.info()"
   ]
  },
  {
   "cell_type": "code",
   "execution_count": null,
   "metadata": {
    "collapsed": true
   },
   "outputs": [],
   "source": []
  }
 ],
 "metadata": {
  "kernelspec": {
   "display_name": "Python 3",
   "language": "python",
   "name": "python3"
  },
  "language_info": {
   "codemirror_mode": {
    "name": "ipython",
    "version": 3
   },
   "file_extension": ".py",
   "mimetype": "text/x-python",
   "name": "python",
   "nbconvert_exporter": "python",
   "pygments_lexer": "ipython3",
   "version": "3.6.2"
  }
 },
 "nbformat": 4,
 "nbformat_minor": 2
}
