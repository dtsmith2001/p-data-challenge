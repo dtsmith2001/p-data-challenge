{
 "cells": [
  {
   "cell_type": "code",
   "execution_count": 39,
   "metadata": {
    "collapsed": true
   },
   "outputs": [],
   "source": [
    "import os\n",
    "import os.path\n",
    "\n",
    "from urllib.parse import urlparse\n",
    "from urllib.parse import parse_qs\n",
    "from datetime import datetime\n",
    "\n",
    "import numpy as np\n",
    "import pandas as pd"
   ]
  },
  {
   "cell_type": "markdown",
   "metadata": {},
   "source": [
    "# Data Challenge\n",
    "\n",
    "Files are stored in an S3 bucket. The purpose here is to fully analyze the data and make some predictions.\n",
    "\n",
    "This workbook was exported to a Python script and the resulting code was checked for PEP8 problems. Any problems were corrected.\n",
    "\n",
    "## Bucket Contents and File Download"
   ]
  },
  {
   "cell_type": "code",
   "execution_count": 2,
   "metadata": {
    "collapsed": true
   },
   "outputs": [],
   "source": [
    "s3 = boto3.resource('s3')\n",
    "bucket_name = \"postie-testing-assets\""
   ]
  },
  {
   "cell_type": "code",
   "execution_count": 3,
   "metadata": {
    "collapsed": true
   },
   "outputs": [],
   "source": [
    "test = s3.Bucket(bucket_name)"
   ]
  },
  {
   "cell_type": "code",
   "execution_count": 4,
   "metadata": {},
   "outputs": [
    {
     "data": {
      "text/plain": [
       "{'ResponseMetadata': {'HTTPHeaders': {'content-type': 'application/xml',\n",
       "   'date': 'Mon, 16 Oct 2017 18:06:53 GMT',\n",
       "   'server': 'AmazonS3',\n",
       "   'transfer-encoding': 'chunked',\n",
       "   'x-amz-bucket-region': 'us-east-1',\n",
       "   'x-amz-id-2': 'YhUEo61GDGSwz1qOpFGJl+C9Sxal34XKRYzOI0TF49PsSSGsbGg2Y6xwbf07z+KHIKusPIYkjxE=',\n",
       "   'x-amz-request-id': 'DDD0C4B61BDF320E'},\n",
       "  'HTTPStatusCode': 200,\n",
       "  'HostId': 'YhUEo61GDGSwz1qOpFGJl+C9Sxal34XKRYzOI0TF49PsSSGsbGg2Y6xwbf07z+KHIKusPIYkjxE=',\n",
       "  'RequestId': 'DDD0C4B61BDF320E',\n",
       "  'RetryAttempts': 0}}"
      ]
     },
     "execution_count": 4,
     "metadata": {},
     "output_type": "execute_result"
    }
   ],
   "source": [
    "s3.meta.client.head_bucket(Bucket=bucket_name)"
   ]
  },
  {
   "cell_type": "code",
   "execution_count": 72,
   "metadata": {},
   "outputs": [
    {
     "name": "stdout",
     "output_type": "stream",
     "text": [
      "2017-07-01.csv\n",
      "2017-07-02.csv\n",
      "2017-07-03.csv\n"
     ]
    }
   ],
   "source": [
    "for key in test.objects.all():\n",
    "    print(key.key)"
   ]
  },
  {
   "cell_type": "markdown",
   "metadata": {},
   "source": [
    "An alternative is to download the data using\n",
    "\n",
    "```aws s3 cp --recursive s3://my_bucket_name local_folder```"
   ]
  },
  {
   "cell_type": "markdown",
   "metadata": {},
   "source": [
    "\n",
    "## Data Issues\n",
    "\n",
    "1. Column names have spaces, so we need to remove them. A more sophisticated method would do this on import. However, processing the first row in this way may slow down the import process, particularly if the files are much larger. There are ways to read chunks via ```read_csv```, which can be used in a class to get the first line of the file, process it as a header, then continue reading the rest of the file in chunks. This is probably the best way to read many large files.\n",
    "2. Placeholder is blank (NaN) for two files. But is this needed?\n",
    "3. The file labeled \"2017-07-01\" has transactions for 7/1/2017 and 7/2/2017.\n",
    "4. The file labeled \"2017-07-02\" has transactions for 7/2/2017 and 7/3/2017.\n",
    "5. The file labeled \"2017-07-03\" has transactions only for 7/3/2017.\n",
    "6. There are two website id's, but one website id has two separate domain names: store.example.com, and www.example.com. This affects counts and also reporting if using the domain name. **Handling the domain names is very dependent on this dataset - no effort was made to write a more general solution**.\n",
    "\n",
    "## Observations\n",
    "\n",
    "1. Analyst is correct - July 3rd *file* has sales of $164,065. There are fewer sales and customers on the 3rd than the other two days, so the sales amount is lower. However, there are problems with the data files, so there are sales recorded on the 3rd found in files labeled for the 2nd and 3rd. There are sales recorded on the 2nd found in the files labeled for the 1st and 2nd. To get accurate sales data we will have to group by transaction date - the sales date parsed from the *timestamp* field.\n",
    "2. The *placeholder* field is empty for two files, so it's probably not meaningful. Regardless, it will not add anything to prediction.\n",
    "3. *app_version* may or may not be meaningful. There is only one app_version for the files labeled \"2017-07-01\" and \"2017-07-02\". The remaining file has two app_versions - 1.1 and 1.2. This field is probably not meaningful for prediction, but sales on the 3rd should be examined for the different app_versions.\n",
    "\n",
    "## Plans\n",
    "- Get the items. But should we make new columns in the original dataset?\n",
    "- Items are paired with item counts.\n",
    "- We would like to know the sales by domain and by item.\n",
    "- We would like to know the corrected sales by date.\n",
    "- Average sales is not meaningful - explain why.\n",
    "- Sales prediction at the aggregate level is not meaningful - there are only two values per domain.\n",
    "- So do we predict sales at the item level? If so, how?\n",
    "- What do we do with the *app_version*?\n",
    "- What are the values in *placeholder*?\n",
    "- Explain why average sales for a day is not meaningful."
   ]
  },
  {
   "cell_type": "code",
   "execution_count": 56,
   "metadata": {},
   "outputs": [
    {
     "name": "stdout",
     "output_type": "stream",
     "text": [
      "date 2017-07-02.csv has 183294.0 sales for rows 11573 and unique dates 2\n",
      "date 2017-07-01.csv has 241491.0 sales for rows 11634 and unique dates 2\n",
      "date 2017-07-03.csv has 164065.0 sales for rows 9981 and unique dates 1\n"
     ]
    }
   ],
   "source": [
    "fr = pd.DataFrame()\n",
    "col_names = [\"timestamp\", \"website_id\", \"customer_id\", \"app_version\", \"placeholder\", \"checkout_amount\", \"url\"]\n",
    "data_report = []\n",
    "for fname in os.listdir(\"data\"):\n",
    "    ffr = pd.read_csv(os.path.join(\"data\", fname),\n",
    "                      header=0, names=col_names,\n",
    "                      infer_datetime_format=True, parse_dates=[0])\n",
    "    file_date = fname.split(\".\")[0]\n",
    "    ffr[\"file_date\"] = file_date\n",
    "    transaction_date = ffr.timestamp.apply(lambda x: x.strftime('%Y-%m-%d'))  # reformat transaction timestamp\n",
    "    ffr[\"transaction_date\"] = transaction_date\n",
    "    url_items = ffr.url.apply(lambda x: urlparse(x))\n",
    "    \n",
    "    domain_items = ffr.url.str.split(\"//\")  # assumption is we always have a \"valid\" url\n",
    "    domain_name = domain_items.apply(lambda x: x[1].split(\"/\")[0])\n",
    "    ffr[\"domain_name\"] = domain_name.apply(lambda x: x if not \"example.com\" in x else \".\".join(x.split(\".\")[1:]))\n",
    "    item_names = domain_items.apply(lambda x: x[1].split(\"?\")[1])  # see comments above\n",
    "    \n",
    "    print(\"date {} has {} sales for rows {} and unique dates {}\".format(fname, ffr.checkout_amount.sum(),\n",
    "                                                                        ffr.shape[0],\n",
    "                                                                        transaction_date.unique().shape[0]))\n",
    "    data_report.append({\"file_date\": file_date, \"sales\": ffr.checkout_amount.sum(),\n",
    "                        \"n_placeholder_nan\": sum(ffr.placeholder.isnull()),\n",
    "                        \"n_rows\": ffr.shape[0],\n",
    "                        \"n_websites\": ffr.website_id.unique().shape[0],\n",
    "                        \"n_customers\": ffr.customer_id.unique().shape[0],\n",
    "                        \"n_app_versions\": ffr.app_version.unique().shape[0],\n",
    "                        \"n_dates\": transaction_date.unique().shape[0]})\n",
    "    fr = fr.append(ffr)\n",
    "fr.reset_index(drop=True, inplace=True)"
   ]
  },
  {
   "cell_type": "code",
   "execution_count": 12,
   "metadata": {},
   "outputs": [
    {
     "data": {
      "text/html": [
       "<div>\n",
       "<style>\n",
       "    .dataframe thead tr:only-child th {\n",
       "        text-align: right;\n",
       "    }\n",
       "\n",
       "    .dataframe thead th {\n",
       "        text-align: left;\n",
       "    }\n",
       "\n",
       "    .dataframe tbody tr th {\n",
       "        vertical-align: top;\n",
       "    }\n",
       "</style>\n",
       "<table border=\"1\" class=\"dataframe\">\n",
       "  <thead>\n",
       "    <tr style=\"text-align: right;\">\n",
       "      <th></th>\n",
       "      <th>file_date</th>\n",
       "      <th>n_app_versions</th>\n",
       "      <th>n_customers</th>\n",
       "      <th>n_dates</th>\n",
       "      <th>n_placeholder_nan</th>\n",
       "      <th>n_rows</th>\n",
       "      <th>n_websites</th>\n",
       "      <th>sales</th>\n",
       "    </tr>\n",
       "  </thead>\n",
       "  <tbody>\n",
       "    <tr>\n",
       "      <th>0</th>\n",
       "      <td>2017-07-02</td>\n",
       "      <td>1</td>\n",
       "      <td>8198</td>\n",
       "      <td>2</td>\n",
       "      <td>11573</td>\n",
       "      <td>11573</td>\n",
       "      <td>2</td>\n",
       "      <td>183294.0</td>\n",
       "    </tr>\n",
       "    <tr>\n",
       "      <th>1</th>\n",
       "      <td>2017-07-01</td>\n",
       "      <td>1</td>\n",
       "      <td>8226</td>\n",
       "      <td>2</td>\n",
       "      <td>11634</td>\n",
       "      <td>11634</td>\n",
       "      <td>2</td>\n",
       "      <td>241491.0</td>\n",
       "    </tr>\n",
       "    <tr>\n",
       "      <th>2</th>\n",
       "      <td>2017-07-03</td>\n",
       "      <td>2</td>\n",
       "      <td>7412</td>\n",
       "      <td>1</td>\n",
       "      <td>1792</td>\n",
       "      <td>9981</td>\n",
       "      <td>2</td>\n",
       "      <td>164065.0</td>\n",
       "    </tr>\n",
       "  </tbody>\n",
       "</table>\n",
       "</div>"
      ],
      "text/plain": [
       "    file_date  n_app_versions  n_customers  n_dates  n_placeholder_nan  \\\n",
       "0  2017-07-02               1         8198        2              11573   \n",
       "1  2017-07-01               1         8226        2              11634   \n",
       "2  2017-07-03               2         7412        1               1792   \n",
       "\n",
       "   n_rows  n_websites     sales  \n",
       "0   11573           2  183294.0  \n",
       "1   11634           2  241491.0  \n",
       "2    9981           2  164065.0  "
      ]
     },
     "execution_count": 12,
     "metadata": {},
     "output_type": "execute_result"
    }
   ],
   "source": [
    "pd.DataFrame(data_report)"
   ]
  },
  {
   "cell_type": "code",
   "execution_count": 57,
   "metadata": {},
   "outputs": [
    {
     "data": {
      "text/html": [
       "<div>\n",
       "<style>\n",
       "    .dataframe thead tr:only-child th {\n",
       "        text-align: right;\n",
       "    }\n",
       "\n",
       "    .dataframe thead th {\n",
       "        text-align: left;\n",
       "    }\n",
       "\n",
       "    .dataframe tbody tr th {\n",
       "        vertical-align: top;\n",
       "    }\n",
       "</style>\n",
       "<table border=\"1\" class=\"dataframe\">\n",
       "  <thead>\n",
       "    <tr style=\"text-align: right;\">\n",
       "      <th></th>\n",
       "      <th>timestamp</th>\n",
       "      <th>website_id</th>\n",
       "      <th>customer_id</th>\n",
       "      <th>app_version</th>\n",
       "      <th>placeholder</th>\n",
       "      <th>checkout_amount</th>\n",
       "      <th>url</th>\n",
       "      <th>file_date</th>\n",
       "      <th>transaction_date</th>\n",
       "      <th>domain_name</th>\n",
       "    </tr>\n",
       "  </thead>\n",
       "  <tbody>\n",
       "    <tr>\n",
       "      <th>0</th>\n",
       "      <td>2017-07-02 07:00:35</td>\n",
       "      <td>123</td>\n",
       "      <td>9418</td>\n",
       "      <td>1.1</td>\n",
       "      <td>NaN</td>\n",
       "      <td>6.0</td>\n",
       "      <td>http://www.example.com/store/?Ume=1</td>\n",
       "      <td>2017-07-02</td>\n",
       "      <td>2017-07-02</td>\n",
       "      <td>example.com</td>\n",
       "    </tr>\n",
       "    <tr>\n",
       "      <th>1</th>\n",
       "      <td>2017-07-02 07:00:37</td>\n",
       "      <td>124</td>\n",
       "      <td>3872</td>\n",
       "      <td>1.1</td>\n",
       "      <td>NaN</td>\n",
       "      <td>3.0</td>\n",
       "      <td>http://xyz.com/checkout?Prairie+Potato=1</td>\n",
       "      <td>2017-07-02</td>\n",
       "      <td>2017-07-02</td>\n",
       "      <td>xyz.com</td>\n",
       "    </tr>\n",
       "    <tr>\n",
       "      <th>2</th>\n",
       "      <td>2017-07-02 07:00:47</td>\n",
       "      <td>123</td>\n",
       "      <td>3090</td>\n",
       "      <td>1.1</td>\n",
       "      <td>NaN</td>\n",
       "      <td>4.0</td>\n",
       "      <td>http://www.example.com/store/?Hazelnut=1</td>\n",
       "      <td>2017-07-02</td>\n",
       "      <td>2017-07-02</td>\n",
       "      <td>example.com</td>\n",
       "    </tr>\n",
       "    <tr>\n",
       "      <th>3</th>\n",
       "      <td>2017-07-02 00:00:51</td>\n",
       "      <td>124</td>\n",
       "      <td>9556</td>\n",
       "      <td>1.1</td>\n",
       "      <td>NaN</td>\n",
       "      <td>6.0</td>\n",
       "      <td>http://xyz.com/checkout?Ume=1</td>\n",
       "      <td>2017-07-02</td>\n",
       "      <td>2017-07-02</td>\n",
       "      <td>xyz.com</td>\n",
       "    </tr>\n",
       "    <tr>\n",
       "      <th>4</th>\n",
       "      <td>2017-07-02 00:01:02</td>\n",
       "      <td>124</td>\n",
       "      <td>8845</td>\n",
       "      <td>1.1</td>\n",
       "      <td>NaN</td>\n",
       "      <td>6.0</td>\n",
       "      <td>http://xyz.com/checkout?Bignay=1</td>\n",
       "      <td>2017-07-02</td>\n",
       "      <td>2017-07-02</td>\n",
       "      <td>xyz.com</td>\n",
       "    </tr>\n",
       "  </tbody>\n",
       "</table>\n",
       "</div>"
      ],
      "text/plain": [
       "            timestamp  website_id  customer_id  app_version placeholder  \\\n",
       "0 2017-07-02 07:00:35         123         9418          1.1         NaN   \n",
       "1 2017-07-02 07:00:37         124         3872          1.1         NaN   \n",
       "2 2017-07-02 07:00:47         123         3090          1.1         NaN   \n",
       "3 2017-07-02 00:00:51         124         9556          1.1         NaN   \n",
       "4 2017-07-02 00:01:02         124         8845          1.1         NaN   \n",
       "\n",
       "   checkout_amount                                       url   file_date  \\\n",
       "0              6.0       http://www.example.com/store/?Ume=1  2017-07-02   \n",
       "1              3.0  http://xyz.com/checkout?Prairie+Potato=1  2017-07-02   \n",
       "2              4.0  http://www.example.com/store/?Hazelnut=1  2017-07-02   \n",
       "3              6.0             http://xyz.com/checkout?Ume=1  2017-07-02   \n",
       "4              6.0          http://xyz.com/checkout?Bignay=1  2017-07-02   \n",
       "\n",
       "  transaction_date  domain_name  \n",
       "0       2017-07-02  example.com  \n",
       "1       2017-07-02      xyz.com  \n",
       "2       2017-07-02  example.com  \n",
       "3       2017-07-02      xyz.com  \n",
       "4       2017-07-02      xyz.com  "
      ]
     },
     "execution_count": 57,
     "metadata": {},
     "output_type": "execute_result"
    }
   ],
   "source": [
    "fr.head()"
   ]
  },
  {
   "cell_type": "code",
   "execution_count": 13,
   "metadata": {},
   "outputs": [
    {
     "data": {
      "text/html": [
       "<div>\n",
       "<style>\n",
       "    .dataframe thead tr:only-child th {\n",
       "        text-align: right;\n",
       "    }\n",
       "\n",
       "    .dataframe thead th {\n",
       "        text-align: left;\n",
       "    }\n",
       "\n",
       "    .dataframe tbody tr th {\n",
       "        vertical-align: top;\n",
       "    }\n",
       "</style>\n",
       "<table border=\"1\" class=\"dataframe\">\n",
       "  <thead>\n",
       "    <tr>\n",
       "      <th></th>\n",
       "      <th colspan=\"3\" halign=\"left\">sum</th>\n",
       "    </tr>\n",
       "    <tr>\n",
       "      <th>domain_name</th>\n",
       "      <th>example.com</th>\n",
       "      <th>xyz.com</th>\n",
       "      <th>All</th>\n",
       "    </tr>\n",
       "    <tr>\n",
       "      <th>transaction_date</th>\n",
       "      <th></th>\n",
       "      <th></th>\n",
       "      <th></th>\n",
       "    </tr>\n",
       "  </thead>\n",
       "  <tbody>\n",
       "    <tr>\n",
       "      <th>2017-07-01</th>\n",
       "      <td>172874.0</td>\n",
       "      <td>50641.0</td>\n",
       "      <td>223515.0</td>\n",
       "    </tr>\n",
       "    <tr>\n",
       "      <th>2017-07-02</th>\n",
       "      <td>127786.0</td>\n",
       "      <td>55966.0</td>\n",
       "      <td>183752.0</td>\n",
       "    </tr>\n",
       "    <tr>\n",
       "      <th>2017-07-03</th>\n",
       "      <td>64599.0</td>\n",
       "      <td>116984.0</td>\n",
       "      <td>181583.0</td>\n",
       "    </tr>\n",
       "    <tr>\n",
       "      <th>All</th>\n",
       "      <td>365259.0</td>\n",
       "      <td>223591.0</td>\n",
       "      <td>588850.0</td>\n",
       "    </tr>\n",
       "  </tbody>\n",
       "</table>\n",
       "</div>"
      ],
      "text/plain": [
       "                         sum                    \n",
       "domain_name      example.com   xyz.com       All\n",
       "transaction_date                                \n",
       "2017-07-01          172874.0   50641.0  223515.0\n",
       "2017-07-02          127786.0   55966.0  183752.0\n",
       "2017-07-03           64599.0  116984.0  181583.0\n",
       "All                 365259.0  223591.0  588850.0"
      ]
     },
     "execution_count": 13,
     "metadata": {},
     "output_type": "execute_result"
    }
   ],
   "source": [
    "pd.pivot_table(fr, values=\"checkout_amount\", index=\"transaction_date\", columns=\"domain_name\",\n",
    "               aggfunc=[np.sum], margins=True)"
   ]
  },
  {
   "cell_type": "code",
   "execution_count": 14,
   "metadata": {},
   "outputs": [
    {
     "data": {
      "text/html": [
       "<div>\n",
       "<style>\n",
       "    .dataframe thead tr:only-child th {\n",
       "        text-align: right;\n",
       "    }\n",
       "\n",
       "    .dataframe thead th {\n",
       "        text-align: left;\n",
       "    }\n",
       "\n",
       "    .dataframe tbody tr th {\n",
       "        vertical-align: top;\n",
       "    }\n",
       "</style>\n",
       "<table border=\"1\" class=\"dataframe\">\n",
       "  <thead>\n",
       "    <tr>\n",
       "      <th></th>\n",
       "      <th colspan=\"3\" halign=\"left\">sum</th>\n",
       "    </tr>\n",
       "    <tr>\n",
       "      <th>domain_name</th>\n",
       "      <th>example.com</th>\n",
       "      <th>xyz.com</th>\n",
       "      <th>All</th>\n",
       "    </tr>\n",
       "    <tr>\n",
       "      <th>file_date</th>\n",
       "      <th></th>\n",
       "      <th></th>\n",
       "      <th></th>\n",
       "    </tr>\n",
       "  </thead>\n",
       "  <tbody>\n",
       "    <tr>\n",
       "      <th>2017-07-01</th>\n",
       "      <td>182100.0</td>\n",
       "      <td>59391.0</td>\n",
       "      <td>241491.0</td>\n",
       "    </tr>\n",
       "    <tr>\n",
       "      <th>2017-07-02</th>\n",
       "      <td>127466.0</td>\n",
       "      <td>55828.0</td>\n",
       "      <td>183294.0</td>\n",
       "    </tr>\n",
       "    <tr>\n",
       "      <th>2017-07-03</th>\n",
       "      <td>55693.0</td>\n",
       "      <td>108372.0</td>\n",
       "      <td>164065.0</td>\n",
       "    </tr>\n",
       "    <tr>\n",
       "      <th>All</th>\n",
       "      <td>365259.0</td>\n",
       "      <td>223591.0</td>\n",
       "      <td>588850.0</td>\n",
       "    </tr>\n",
       "  </tbody>\n",
       "</table>\n",
       "</div>"
      ],
      "text/plain": [
       "                    sum                    \n",
       "domain_name example.com   xyz.com       All\n",
       "file_date                                  \n",
       "2017-07-01     182100.0   59391.0  241491.0\n",
       "2017-07-02     127466.0   55828.0  183294.0\n",
       "2017-07-03      55693.0  108372.0  164065.0\n",
       "All            365259.0  223591.0  588850.0"
      ]
     },
     "execution_count": 14,
     "metadata": {},
     "output_type": "execute_result"
    }
   ],
   "source": [
    "pd.pivot_table(fr, values=\"checkout_amount\", index=\"file_date\", columns=\"domain_name\",\n",
    "               aggfunc=[np.sum], margins=True)"
   ]
  },
  {
   "cell_type": "code",
   "execution_count": 62,
   "metadata": {},
   "outputs": [],
   "source": [
    "url_results = fr.url.apply(lambda x: urlparse(x))\n",
    "domain_names = url_results.apply(lambda x: x[1])\n",
    "item_query = url_results.apply(lambda x: x[4])\n",
    "qq = item_query.apply(lambda x: parse_qs(x))\n",
    "def items_frame(item_query):\n",
    "    ll = []\n",
    "    parsed_qs = item_query.apply(lambda x: parse_qs(x))\n",
    "    # each row in this Series is a dictionary\n",
    "    # note the key-value pairs are of the form {'Round Kumquat': ['1'], 'Ume': ['1']}\n",
    "    for dd in parsed_qs:\n",
    "        for k in dd:\n",
    "            col_name = k.replace(\"/\", \"_\").replace(\" \", \"_\").replace(\"-\", \"_\")  # regexp here?\n",
    "            try:\n",
    "                ll.append({col_name: dd[k][0]})\n",
    "            except Exception as ex:\n",
    "                print(k)\n",
    "    frame = pd.DataFrame(ll)\n",
    "    return frame\n",
    "item_fr = items_frame(item_query)\n",
    "# the last code above gives back a Series whose values are dictionaries.\n",
    "# Write a function which takes in the item query column. It should return a data frame of the same\n",
    "# length as the input, with columns consisting of the item name and values consisting of the count."
   ]
  },
  {
   "cell_type": "code",
   "execution_count": 64,
   "metadata": {},
   "outputs": [
    {
     "data": {
      "text/plain": [
       "(46336, 11)"
      ]
     },
     "execution_count": 64,
     "metadata": {},
     "output_type": "execute_result"
    }
   ],
   "source": [
    "item_fr.shape"
   ]
  },
  {
   "cell_type": "code",
   "execution_count": 65,
   "metadata": {},
   "outputs": [
    {
     "data": {
      "text/plain": [
       "(33188, 10)"
      ]
     },
     "execution_count": 65,
     "metadata": {},
     "output_type": "execute_result"
    }
   ],
   "source": [
    "fr.shape"
   ]
  },
  {
   "cell_type": "code",
   "execution_count": null,
   "metadata": {
    "collapsed": true
   },
   "outputs": [],
   "source": []
  }
 ],
 "metadata": {
  "kernelspec": {
   "display_name": "Python 3",
   "language": "python",
   "name": "python3"
  },
  "language_info": {
   "codemirror_mode": {
    "name": "ipython",
    "version": 3
   },
   "file_extension": ".py",
   "mimetype": "text/x-python",
   "name": "python",
   "nbconvert_exporter": "python",
   "pygments_lexer": "ipython3",
   "version": "3.6.2"
  }
 },
 "nbformat": 4,
 "nbformat_minor": 2
}
